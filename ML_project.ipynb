{
  "nbformat": 4,
  "nbformat_minor": 0,
  "metadata": {
    "colab": {
      "provenance": [],
      "include_colab_link": true
    },
    "kernelspec": {
      "name": "python3",
      "display_name": "Python 3"
    },
    "language_info": {
      "name": "python"
    }
  },
  "cells": [
    {
      "cell_type": "markdown",
      "metadata": {
        "id": "view-in-github",
        "colab_type": "text"
      },
      "source": [
        "<a href=\"https://colab.research.google.com/github/Lalitha1704/machine_learning/blob/main/ML_project.ipynb\" target=\"_parent\"><img src=\"https://colab.research.google.com/assets/colab-badge.svg\" alt=\"Open In Colab\"/></a>"
      ]
    },
    {
      "cell_type": "code",
      "execution_count": null,
      "metadata": {
        "id": "C2XQerTBKeYP"
      },
      "outputs": [],
      "source": [
        "import pandas as pd\n",
        "import numpy as np\n",
        "import matplotlib.pylab as plt\n",
        "from matplotlib.pylab import rcParams\n",
        "\n",
        "# Set the figure size\n",
        "rcParams['figure.figsize'] = 15, 6\n",
        "\n",
        "# Ensure inline plotting for Jupyter Notebook\n",
        "%matplotlib inline\n"
      ]
    },
    {
      "cell_type": "code",
      "source": [
        "# Load the CSV file\n",
        "data = pd.read_csv('/content/zomato.csv')\n",
        "\n",
        "# Display the first 5 rows of the dataset\n",
        "print(data.head())\n",
        "\n",
        "# Print data types of each column\n",
        "print('\\nData Types:')\n",
        "print(data.dtypes)"
      ],
      "metadata": {
        "colab": {
          "base_uri": "https://localhost:8080/"
        },
        "id": "zle7yaRHMG_3",
        "outputId": "76c644bd-0675-456a-a725-1a50f6296db5"
      },
      "execution_count": null,
      "outputs": [
        {
          "output_type": "stream",
          "name": "stdout",
          "text": [
            "         Date        Open        High         Low       Close   Adj Close  \\\n",
            "0  2021-07-23  116.000000  138.899994  115.000000  126.000000  126.000000   \n",
            "1  2021-07-26  126.349998  143.750000  125.300003  140.649994  140.649994   \n",
            "2  2021-07-27  141.699997  147.800003  127.750000  132.899994  132.899994   \n",
            "3  2021-07-28  131.000000  135.000000  123.550003  131.199997  131.199997   \n",
            "4  2021-07-29  134.949997  144.000000  132.199997  141.550003  141.550003   \n",
            "\n",
            "      Volume  \n",
            "0  694895290  \n",
            "1  249723854  \n",
            "2  240341900  \n",
            "3  159793731  \n",
            "4  117973089  \n",
            "\n",
            "Data Types:\n",
            "Date          object\n",
            "Open         float64\n",
            "High         float64\n",
            "Low          float64\n",
            "Close        float64\n",
            "Adj Close    float64\n",
            "Volume         int64\n",
            "dtype: object\n"
          ]
        }
      ]
    },
    {
      "cell_type": "code",
      "source": [
        "# import pandas as pd\n",
        "from datetime import datetime\n",
        "\n",
        "# Date parsing function\n",
        "dateparse = lambda dates: datetime.strptime(dates, '%Y-%m-%d')\n",
        "\n",
        "# Load the CSV file with date parsing\n",
        "data = pd.read_csv('/content/zomato.csv', parse_dates=['Date'], index_col='Date')\n",
        "\n",
        "# Display the first 5 rows of the dataset\n",
        "print(data.head())"
      ],
      "metadata": {
        "id": "IcjBY5VuM62S",
        "outputId": "b5e61d63-c3a9-410d-aef7-7fa6b3b9362a",
        "colab": {
          "base_uri": "https://localhost:8080/"
        }
      },
      "execution_count": 10,
      "outputs": [
        {
          "output_type": "stream",
          "name": "stdout",
          "text": [
            "                  Open        High         Low       Close   Adj Close  \\\n",
            "Date                                                                     \n",
            "2021-07-23  116.000000  138.899994  115.000000  126.000000  126.000000   \n",
            "2021-07-26  126.349998  143.750000  125.300003  140.649994  140.649994   \n",
            "2021-07-27  141.699997  147.800003  127.750000  132.899994  132.899994   \n",
            "2021-07-28  131.000000  135.000000  123.550003  131.199997  131.199997   \n",
            "2021-07-29  134.949997  144.000000  132.199997  141.550003  141.550003   \n",
            "\n",
            "               Volume  \n",
            "Date                   \n",
            "2021-07-23  694895290  \n",
            "2021-07-26  249723854  \n",
            "2021-07-27  240341900  \n",
            "2021-07-28  159793731  \n",
            "2021-07-29  117973089  \n"
          ]
        }
      ]
    },
    {
      "cell_type": "code",
      "source": [
        "#check datatype of index\n",
        "data.index"
      ],
      "metadata": {
        "id": "ro-rIAd2XIzP",
        "outputId": "0a4d2e6a-1fdd-4936-8f9e-a14470fd747e",
        "colab": {
          "base_uri": "https://localhost:8080/"
        }
      },
      "execution_count": 11,
      "outputs": [
        {
          "output_type": "execute_result",
          "data": {
            "text/plain": [
              "DatetimeIndex(['2021-07-23', '2021-07-26', '2021-07-27', '2021-07-28',\n",
              "               '2021-07-29', '2021-07-30', '2021-08-02', '2021-08-03',\n",
              "               '2021-08-04', '2021-08-05',\n",
              "               ...\n",
              "               '2024-01-24', '2024-01-25', '2024-01-29', '2024-01-30',\n",
              "               '2024-01-31', '2024-02-01', '2024-02-02', '2024-02-05',\n",
              "               '2024-02-06', '2024-02-07'],\n",
              "              dtype='datetime64[ns]', name='Date', length=631, freq=None)"
            ]
          },
          "metadata": {},
          "execution_count": 11
        }
      ]
    },
    {
      "cell_type": "code",
      "source": [
        "#convert to time series:\n",
        "ts = data['Adj Close']\n",
        "ts.head(10)"
      ],
      "metadata": {
        "id": "1SCtgvh2Xax2",
        "outputId": "1834c238-ffc3-44f7-f0e7-f3e4fb167b5a",
        "colab": {
          "base_uri": "https://localhost:8080/",
          "height": 429
        }
      },
      "execution_count": 14,
      "outputs": [
        {
          "output_type": "execute_result",
          "data": {
            "text/plain": [
              "Date\n",
              "2021-07-23    126.000000\n",
              "2021-07-26    140.649994\n",
              "2021-07-27    132.899994\n",
              "2021-07-28    131.199997\n",
              "2021-07-29    141.550003\n",
              "2021-07-30    133.500000\n",
              "2021-08-02    139.699997\n",
              "2021-08-03    139.399994\n",
              "2021-08-04    138.399994\n",
              "2021-08-05    134.949997\n",
              "Name: Adj Close, dtype: float64"
            ],
            "text/html": [
              "<div>\n",
              "<style scoped>\n",
              "    .dataframe tbody tr th:only-of-type {\n",
              "        vertical-align: middle;\n",
              "    }\n",
              "\n",
              "    .dataframe tbody tr th {\n",
              "        vertical-align: top;\n",
              "    }\n",
              "\n",
              "    .dataframe thead th {\n",
              "        text-align: right;\n",
              "    }\n",
              "</style>\n",
              "<table border=\"1\" class=\"dataframe\">\n",
              "  <thead>\n",
              "    <tr style=\"text-align: right;\">\n",
              "      <th></th>\n",
              "      <th>Adj Close</th>\n",
              "    </tr>\n",
              "    <tr>\n",
              "      <th>Date</th>\n",
              "      <th></th>\n",
              "    </tr>\n",
              "  </thead>\n",
              "  <tbody>\n",
              "    <tr>\n",
              "      <th>2021-07-23</th>\n",
              "      <td>126.000000</td>\n",
              "    </tr>\n",
              "    <tr>\n",
              "      <th>2021-07-26</th>\n",
              "      <td>140.649994</td>\n",
              "    </tr>\n",
              "    <tr>\n",
              "      <th>2021-07-27</th>\n",
              "      <td>132.899994</td>\n",
              "    </tr>\n",
              "    <tr>\n",
              "      <th>2021-07-28</th>\n",
              "      <td>131.199997</td>\n",
              "    </tr>\n",
              "    <tr>\n",
              "      <th>2021-07-29</th>\n",
              "      <td>141.550003</td>\n",
              "    </tr>\n",
              "    <tr>\n",
              "      <th>2021-07-30</th>\n",
              "      <td>133.500000</td>\n",
              "    </tr>\n",
              "    <tr>\n",
              "      <th>2021-08-02</th>\n",
              "      <td>139.699997</td>\n",
              "    </tr>\n",
              "    <tr>\n",
              "      <th>2021-08-03</th>\n",
              "      <td>139.399994</td>\n",
              "    </tr>\n",
              "    <tr>\n",
              "      <th>2021-08-04</th>\n",
              "      <td>138.399994</td>\n",
              "    </tr>\n",
              "    <tr>\n",
              "      <th>2021-08-05</th>\n",
              "      <td>134.949997</td>\n",
              "    </tr>\n",
              "  </tbody>\n",
              "</table>\n",
              "</div><br><label><b>dtype:</b> float64</label>"
            ]
          },
          "metadata": {},
          "execution_count": 14
        }
      ]
    },
    {
      "cell_type": "code",
      "source": [
        "#1. Specific the index as a string constant:\n",
        "ts['2021-07-23']"
      ],
      "metadata": {
        "id": "RKKkIRBMX3q9",
        "outputId": "4fee3a7c-e593-4c28-f676-ff109ff75a19",
        "colab": {
          "base_uri": "https://localhost:8080/"
        }
      },
      "execution_count": 16,
      "outputs": [
        {
          "output_type": "execute_result",
          "data": {
            "text/plain": [
              "126.0"
            ]
          },
          "metadata": {},
          "execution_count": 16
        }
      ]
    },
    {
      "cell_type": "code",
      "source": [
        "#2. Import the datetime library and use 'datetime' function:\n",
        "from datetime import datetime\n",
        "ts[datetime(2024, 1, 23)]"
      ],
      "metadata": {
        "id": "uRrRJ8fkYMQF",
        "outputId": "653e604f-e60b-435e-bfca-c5b0161173e3",
        "colab": {
          "base_uri": "https://localhost:8080/"
        }
      },
      "execution_count": 23,
      "outputs": [
        {
          "output_type": "execute_result",
          "data": {
            "text/plain": [
              "130.100006"
            ]
          },
          "metadata": {},
          "execution_count": 23
        }
      ]
    },
    {
      "cell_type": "code",
      "source": [
        "#1. Specify the entire range:\n",
        "ts['2021-07-23':'2024-1-23']"
      ],
      "metadata": {
        "id": "uolbJImlYjcS",
        "outputId": "466085f5-0ea1-4657-c181-0d94f5396818",
        "colab": {
          "base_uri": "https://localhost:8080/",
          "height": 489
        }
      },
      "execution_count": 24,
      "outputs": [
        {
          "output_type": "execute_result",
          "data": {
            "text/plain": [
              "Date\n",
              "2021-07-23    126.000000\n",
              "2021-07-26    140.649994\n",
              "2021-07-27    132.899994\n",
              "2021-07-28    131.199997\n",
              "2021-07-29    141.550003\n",
              "                 ...    \n",
              "2024-01-17    127.400002\n",
              "2024-01-18    129.449997\n",
              "2024-01-19    135.050003\n",
              "2024-01-22    135.050003\n",
              "2024-01-23    130.100006\n",
              "Name: Adj Close, Length: 621, dtype: float64"
            ],
            "text/html": [
              "<div>\n",
              "<style scoped>\n",
              "    .dataframe tbody tr th:only-of-type {\n",
              "        vertical-align: middle;\n",
              "    }\n",
              "\n",
              "    .dataframe tbody tr th {\n",
              "        vertical-align: top;\n",
              "    }\n",
              "\n",
              "    .dataframe thead th {\n",
              "        text-align: right;\n",
              "    }\n",
              "</style>\n",
              "<table border=\"1\" class=\"dataframe\">\n",
              "  <thead>\n",
              "    <tr style=\"text-align: right;\">\n",
              "      <th></th>\n",
              "      <th>Adj Close</th>\n",
              "    </tr>\n",
              "    <tr>\n",
              "      <th>Date</th>\n",
              "      <th></th>\n",
              "    </tr>\n",
              "  </thead>\n",
              "  <tbody>\n",
              "    <tr>\n",
              "      <th>2021-07-23</th>\n",
              "      <td>126.000000</td>\n",
              "    </tr>\n",
              "    <tr>\n",
              "      <th>2021-07-26</th>\n",
              "      <td>140.649994</td>\n",
              "    </tr>\n",
              "    <tr>\n",
              "      <th>2021-07-27</th>\n",
              "      <td>132.899994</td>\n",
              "    </tr>\n",
              "    <tr>\n",
              "      <th>2021-07-28</th>\n",
              "      <td>131.199997</td>\n",
              "    </tr>\n",
              "    <tr>\n",
              "      <th>2021-07-29</th>\n",
              "      <td>141.550003</td>\n",
              "    </tr>\n",
              "    <tr>\n",
              "      <th>...</th>\n",
              "      <td>...</td>\n",
              "    </tr>\n",
              "    <tr>\n",
              "      <th>2024-01-17</th>\n",
              "      <td>127.400002</td>\n",
              "    </tr>\n",
              "    <tr>\n",
              "      <th>2024-01-18</th>\n",
              "      <td>129.449997</td>\n",
              "    </tr>\n",
              "    <tr>\n",
              "      <th>2024-01-19</th>\n",
              "      <td>135.050003</td>\n",
              "    </tr>\n",
              "    <tr>\n",
              "      <th>2024-01-22</th>\n",
              "      <td>135.050003</td>\n",
              "    </tr>\n",
              "    <tr>\n",
              "      <th>2024-01-23</th>\n",
              "      <td>130.100006</td>\n",
              "    </tr>\n",
              "  </tbody>\n",
              "</table>\n",
              "<p>621 rows × 1 columns</p>\n",
              "</div><br><label><b>dtype:</b> float64</label>"
            ]
          },
          "metadata": {},
          "execution_count": 24
        }
      ]
    },
    {
      "cell_type": "code",
      "source": [
        "#2. Use ':' if one of the indices is at ends:\n",
        "ts[:'2023-07-28']"
      ],
      "metadata": {
        "id": "vFCHFIGvaFSK",
        "outputId": "23df56a4-c15f-40c3-b9b0-b027225b5a60",
        "colab": {
          "base_uri": "https://localhost:8080/",
          "height": 489
        }
      },
      "execution_count": 26,
      "outputs": [
        {
          "output_type": "execute_result",
          "data": {
            "text/plain": [
              "Date\n",
              "2021-07-23    126.000000\n",
              "2021-07-26    140.649994\n",
              "2021-07-27    132.899994\n",
              "2021-07-28    131.199997\n",
              "2021-07-29    141.550003\n",
              "                 ...    \n",
              "2023-07-24     81.300003\n",
              "2023-07-25     82.650002\n",
              "2023-07-26     83.349998\n",
              "2023-07-27     84.949997\n",
              "2023-07-28     86.800003\n",
              "Name: Adj Close, Length: 501, dtype: float64"
            ],
            "text/html": [
              "<div>\n",
              "<style scoped>\n",
              "    .dataframe tbody tr th:only-of-type {\n",
              "        vertical-align: middle;\n",
              "    }\n",
              "\n",
              "    .dataframe tbody tr th {\n",
              "        vertical-align: top;\n",
              "    }\n",
              "\n",
              "    .dataframe thead th {\n",
              "        text-align: right;\n",
              "    }\n",
              "</style>\n",
              "<table border=\"1\" class=\"dataframe\">\n",
              "  <thead>\n",
              "    <tr style=\"text-align: right;\">\n",
              "      <th></th>\n",
              "      <th>Adj Close</th>\n",
              "    </tr>\n",
              "    <tr>\n",
              "      <th>Date</th>\n",
              "      <th></th>\n",
              "    </tr>\n",
              "  </thead>\n",
              "  <tbody>\n",
              "    <tr>\n",
              "      <th>2021-07-23</th>\n",
              "      <td>126.000000</td>\n",
              "    </tr>\n",
              "    <tr>\n",
              "      <th>2021-07-26</th>\n",
              "      <td>140.649994</td>\n",
              "    </tr>\n",
              "    <tr>\n",
              "      <th>2021-07-27</th>\n",
              "      <td>132.899994</td>\n",
              "    </tr>\n",
              "    <tr>\n",
              "      <th>2021-07-28</th>\n",
              "      <td>131.199997</td>\n",
              "    </tr>\n",
              "    <tr>\n",
              "      <th>2021-07-29</th>\n",
              "      <td>141.550003</td>\n",
              "    </tr>\n",
              "    <tr>\n",
              "      <th>...</th>\n",
              "      <td>...</td>\n",
              "    </tr>\n",
              "    <tr>\n",
              "      <th>2023-07-24</th>\n",
              "      <td>81.300003</td>\n",
              "    </tr>\n",
              "    <tr>\n",
              "      <th>2023-07-25</th>\n",
              "      <td>82.650002</td>\n",
              "    </tr>\n",
              "    <tr>\n",
              "      <th>2023-07-26</th>\n",
              "      <td>83.349998</td>\n",
              "    </tr>\n",
              "    <tr>\n",
              "      <th>2023-07-27</th>\n",
              "      <td>84.949997</td>\n",
              "    </tr>\n",
              "    <tr>\n",
              "      <th>2023-07-28</th>\n",
              "      <td>86.800003</td>\n",
              "    </tr>\n",
              "  </tbody>\n",
              "</table>\n",
              "<p>501 rows × 1 columns</p>\n",
              "</div><br><label><b>dtype:</b> float64</label>"
            ]
          },
          "metadata": {},
          "execution_count": 26
        }
      ]
    },
    {
      "cell_type": "code",
      "source": [
        "ts['2021']"
      ],
      "metadata": {
        "id": "vp-d4267aol5",
        "outputId": "3bfbf64e-1559-4491-bfdc-71b70d039eea",
        "colab": {
          "base_uri": "https://localhost:8080/",
          "height": 489
        }
      },
      "execution_count": 27,
      "outputs": [
        {
          "output_type": "execute_result",
          "data": {
            "text/plain": [
              "Date\n",
              "2021-07-23    126.000000\n",
              "2021-07-26    140.649994\n",
              "2021-07-27    132.899994\n",
              "2021-07-28    131.199997\n",
              "2021-07-29    141.550003\n",
              "                 ...    \n",
              "2021-12-27    132.750000\n",
              "2021-12-28    132.850006\n",
              "2021-12-29    137.100006\n",
              "2021-12-30    133.949997\n",
              "2021-12-31    137.399994\n",
              "Name: Adj Close, Length: 111, dtype: float64"
            ],
            "text/html": [
              "<div>\n",
              "<style scoped>\n",
              "    .dataframe tbody tr th:only-of-type {\n",
              "        vertical-align: middle;\n",
              "    }\n",
              "\n",
              "    .dataframe tbody tr th {\n",
              "        vertical-align: top;\n",
              "    }\n",
              "\n",
              "    .dataframe thead th {\n",
              "        text-align: right;\n",
              "    }\n",
              "</style>\n",
              "<table border=\"1\" class=\"dataframe\">\n",
              "  <thead>\n",
              "    <tr style=\"text-align: right;\">\n",
              "      <th></th>\n",
              "      <th>Adj Close</th>\n",
              "    </tr>\n",
              "    <tr>\n",
              "      <th>Date</th>\n",
              "      <th></th>\n",
              "    </tr>\n",
              "  </thead>\n",
              "  <tbody>\n",
              "    <tr>\n",
              "      <th>2021-07-23</th>\n",
              "      <td>126.000000</td>\n",
              "    </tr>\n",
              "    <tr>\n",
              "      <th>2021-07-26</th>\n",
              "      <td>140.649994</td>\n",
              "    </tr>\n",
              "    <tr>\n",
              "      <th>2021-07-27</th>\n",
              "      <td>132.899994</td>\n",
              "    </tr>\n",
              "    <tr>\n",
              "      <th>2021-07-28</th>\n",
              "      <td>131.199997</td>\n",
              "    </tr>\n",
              "    <tr>\n",
              "      <th>2021-07-29</th>\n",
              "      <td>141.550003</td>\n",
              "    </tr>\n",
              "    <tr>\n",
              "      <th>...</th>\n",
              "      <td>...</td>\n",
              "    </tr>\n",
              "    <tr>\n",
              "      <th>2021-12-27</th>\n",
              "      <td>132.750000</td>\n",
              "    </tr>\n",
              "    <tr>\n",
              "      <th>2021-12-28</th>\n",
              "      <td>132.850006</td>\n",
              "    </tr>\n",
              "    <tr>\n",
              "      <th>2021-12-29</th>\n",
              "      <td>137.100006</td>\n",
              "    </tr>\n",
              "    <tr>\n",
              "      <th>2021-12-30</th>\n",
              "      <td>133.949997</td>\n",
              "    </tr>\n",
              "    <tr>\n",
              "      <th>2021-12-31</th>\n",
              "      <td>137.399994</td>\n",
              "    </tr>\n",
              "  </tbody>\n",
              "</table>\n",
              "<p>111 rows × 1 columns</p>\n",
              "</div><br><label><b>dtype:</b> float64</label>"
            ]
          },
          "metadata": {},
          "execution_count": 27
        }
      ]
    }
  ]
}