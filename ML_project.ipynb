{
  "nbformat": 4,
  "nbformat_minor": 0,
  "metadata": {
    "colab": {
      "provenance": [],
      "include_colab_link": true
    },
    "kernelspec": {
      "name": "python3",
      "display_name": "Python 3"
    },
    "language_info": {
      "name": "python"
    }
  },
  "cells": [
    {
      "cell_type": "markdown",
      "metadata": {
        "id": "view-in-github",
        "colab_type": "text"
      },
      "source": [
        "<a href=\"https://colab.research.google.com/github/Lalitha1704/machine_learning/blob/main/ML_project.ipynb\" target=\"_parent\"><img src=\"https://colab.research.google.com/assets/colab-badge.svg\" alt=\"Open In Colab\"/></a>"
      ]
    },
    {
      "cell_type": "code",
      "execution_count": 2,
      "metadata": {
        "id": "C2XQerTBKeYP"
      },
      "outputs": [],
      "source": [
        "import pandas as pd\n",
        "import numpy as np\n",
        "import matplotlib.pylab as plt\n",
        "from matplotlib.pylab import rcParams\n",
        "\n",
        "# Set the figure size\n",
        "rcParams['figure.figsize'] = 15, 6\n",
        "\n",
        "# Ensure inline plotting for Jupyter Notebook\n",
        "%matplotlib inline\n"
      ]
    },
    {
      "cell_type": "code",
      "source": [
        "# Load the CSV file\n",
        "data = pd.read_csv('/content/zomato.csv')\n",
        "\n",
        "# Display the first 5 rows of the dataset\n",
        "print(data.head())\n",
        "\n",
        "# Print data types of each column\n",
        "print('\\nData Types:')\n",
        "print(data.dtypes)"
      ],
      "metadata": {
        "colab": {
          "base_uri": "https://localhost:8080/"
        },
        "id": "zle7yaRHMG_3",
        "outputId": "76c644bd-0675-456a-a725-1a50f6296db5"
      },
      "execution_count": 3,
      "outputs": [
        {
          "output_type": "stream",
          "name": "stdout",
          "text": [
            "         Date        Open        High         Low       Close   Adj Close  \\\n",
            "0  2021-07-23  116.000000  138.899994  115.000000  126.000000  126.000000   \n",
            "1  2021-07-26  126.349998  143.750000  125.300003  140.649994  140.649994   \n",
            "2  2021-07-27  141.699997  147.800003  127.750000  132.899994  132.899994   \n",
            "3  2021-07-28  131.000000  135.000000  123.550003  131.199997  131.199997   \n",
            "4  2021-07-29  134.949997  144.000000  132.199997  141.550003  141.550003   \n",
            "\n",
            "      Volume  \n",
            "0  694895290  \n",
            "1  249723854  \n",
            "2  240341900  \n",
            "3  159793731  \n",
            "4  117973089  \n",
            "\n",
            "Data Types:\n",
            "Date          object\n",
            "Open         float64\n",
            "High         float64\n",
            "Low          float64\n",
            "Close        float64\n",
            "Adj Close    float64\n",
            "Volume         int64\n",
            "dtype: object\n"
          ]
        }
      ]
    },
    {
      "cell_type": "code",
      "source": [
        "# import pandas as pd\n",
        "from datetime import datetime\n",
        "\n",
        "# Date parsing function\n",
        "dateparse = lambda dates: datetime.strptime(dates, '%Y-%m-%d')\n",
        "\n",
        "# Load the CSV file with date parsing\n",
        "data = pd.read_csv('/content/zomato.csv', parse_dates=['Date'],\n",
        "                   index_col='Date', date_parser=dateparse)\n",
        "\n",
        "# Display the first 5 rows of the dataset\n",
        "print(data.head())"
      ],
      "metadata": {
        "id": "IcjBY5VuM62S",
        "outputId": "c3540773-323b-4ef5-e0d4-7415649520d6",
        "colab": {
          "base_uri": "https://localhost:8080/"
        }
      },
      "execution_count": 9,
      "outputs": [
        {
          "output_type": "stream",
          "name": "stdout",
          "text": [
            "                  Open        High         Low       Close   Adj Close  \\\n",
            "Date                                                                     \n",
            "2021-07-23  116.000000  138.899994  115.000000  126.000000  126.000000   \n",
            "2021-07-26  126.349998  143.750000  125.300003  140.649994  140.649994   \n",
            "2021-07-27  141.699997  147.800003  127.750000  132.899994  132.899994   \n",
            "2021-07-28  131.000000  135.000000  123.550003  131.199997  131.199997   \n",
            "2021-07-29  134.949997  144.000000  132.199997  141.550003  141.550003   \n",
            "\n",
            "               Volume  \n",
            "Date                   \n",
            "2021-07-23  694895290  \n",
            "2021-07-26  249723854  \n",
            "2021-07-27  240341900  \n",
            "2021-07-28  159793731  \n",
            "2021-07-29  117973089  \n"
          ]
        },
        {
          "output_type": "stream",
          "name": "stderr",
          "text": [
            "<ipython-input-9-f79bf86edd4e>:8: FutureWarning: The argument 'date_parser' is deprecated and will be removed in a future version. Please use 'date_format' instead, or read your data in as 'object' dtype and then call 'to_datetime'.\n",
            "  data = pd.read_csv('/content/zomato.csv', parse_dates=['Date'],\n"
          ]
        }
      ]
    }
  ]
}