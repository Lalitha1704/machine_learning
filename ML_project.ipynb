{
  "nbformat": 4,
  "nbformat_minor": 0,
  "metadata": {
    "colab": {
      "provenance": [],
      "authorship_tag": "ABX9TyPp6IdhKWCc4p0cb6gI+naI",
      "include_colab_link": true
    },
    "kernelspec": {
      "name": "python3",
      "display_name": "Python 3"
    },
    "language_info": {
      "name": "python"
    }
  },
  "cells": [
    {
      "cell_type": "markdown",
      "metadata": {
        "id": "view-in-github",
        "colab_type": "text"
      },
      "source": [
        "<a href=\"https://colab.research.google.com/github/Lalitha1704/machine_learning/blob/main/ML_project.ipynb\" target=\"_parent\"><img src=\"https://colab.research.google.com/assets/colab-badge.svg\" alt=\"Open In Colab\"/></a>"
      ]
    },
    {
      "cell_type": "code",
      "execution_count": 3,
      "metadata": {
        "id": "C2XQerTBKeYP"
      },
      "outputs": [],
      "source": [
        "import pandas as pd\n",
        "import numpy as np\n",
        "import matplotlib.pylab as plt\n",
        "from matplotlib.pylab import rcParams\n",
        "\n",
        "# Set the figure size\n",
        "rcParams['figure.figsize'] = 15, 6\n",
        "\n",
        "# Ensure inline plotting for Jupyter Notebook\n",
        "%matplotlib inline\n"
      ]
    },
    {
      "cell_type": "code",
      "source": [
        "# Load the CSV file\n",
        "data = pd.read_csv('/content/stock_data.csv')\n",
        "\n",
        "# Display the first 5 rows of the dataset\n",
        "print(data.head())\n",
        "\n",
        "# Print data types of each column\n",
        "print('\\nData Types:')\n",
        "print(data.dtypes)"
      ],
      "metadata": {
        "colab": {
          "base_uri": "https://localhost:8080/"
        },
        "id": "zle7yaRHMG_3",
        "outputId": "551b147a-fe8f-4224-d805-9762250c2132"
      },
      "execution_count": 5,
      "outputs": [
        {
          "output_type": "stream",
          "name": "stdout",
          "text": [
            "   Unnamed: 0     Stock_1     Stock_2    Stock_3     Stock_4     Stock_5\n",
            "0  2020-01-01  101.764052  100.160928  99.494642   99.909756  101.761266\n",
            "1  2020-01-02  102.171269   99.969968  98.682973  100.640755  102.528643\n",
            "2  2020-01-03  103.171258   99.575237  98.182139  100.574847  101.887811\n",
            "3  2020-01-04  105.483215   99.308641  97.149381  100.925017  101.490049\n",
            "4  2020-01-05  107.453175   98.188428  99.575396  101.594411  101.604283\n",
            "\n",
            "Data Types:\n",
            "Unnamed: 0     object\n",
            "Stock_1       float64\n",
            "Stock_2       float64\n",
            "Stock_3       float64\n",
            "Stock_4       float64\n",
            "Stock_5       float64\n",
            "dtype: object\n"
          ]
        }
      ]
    },
    {
      "cell_type": "code",
      "source": [],
      "metadata": {
        "id": "IcjBY5VuM62S"
      },
      "execution_count": null,
      "outputs": []
    }
  ]
}